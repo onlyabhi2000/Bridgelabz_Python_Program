{
 "cells": [
  {
   "cell_type": "code",
   "execution_count": 10,
   "metadata": {},
   "outputs": [],
   "source": [
    "import numpy as np"
   ]
  },
  {
   "cell_type": "code",
   "execution_count": 11,
   "metadata": {},
   "outputs": [
    {
     "data": {
      "text/plain": [
       "'2.1.3'"
      ]
     },
     "execution_count": 11,
     "metadata": {},
     "output_type": "execute_result"
    }
   ],
   "source": [
    "#Print the numpy version and the configuration\n",
    "np.__version__"
   ]
  },
  {
   "cell_type": "code",
   "execution_count": 12,
   "metadata": {},
   "outputs": [
    {
     "data": {
      "text/plain": [
       "array([0., 0., 0., 0., 0., 0., 0., 0., 0., 0.])"
      ]
     },
     "execution_count": 12,
     "metadata": {},
     "output_type": "execute_result"
    }
   ],
   "source": [
    "#. Create a null vector of size 10\n",
    "np.zeros(10)"
   ]
  },
  {
   "cell_type": "code",
   "execution_count": 13,
   "metadata": {},
   "outputs": [
    {
     "data": {
      "text/plain": [
       "array([10, 11, 12, 13, 14, 15, 16, 17, 18, 19, 20, 21, 22, 23, 24, 25, 26,\n",
       "       27, 28, 29, 30, 31, 32, 33, 34, 35, 36, 37, 38, 39, 40, 41, 42, 43,\n",
       "       44, 45, 46, 47, 48, 49])"
      ]
     },
     "execution_count": 13,
     "metadata": {},
     "output_type": "execute_result"
    }
   ],
   "source": [
    "# Create a vector with values ranging from 10 to 49\n",
    "z = np.arange(10,50)\n",
    "z\n"
   ]
  },
  {
   "cell_type": "code",
   "execution_count": 14,
   "metadata": {},
   "outputs": [
    {
     "data": {
      "text/plain": [
       "array([49, 48, 47, 46, 45, 44, 43, 42, 41, 40, 39, 38, 37, 36, 35, 34, 33,\n",
       "       32, 31, 30, 29, 28, 27, 26, 25, 24, 23, 22, 21, 20, 19, 18, 17, 16,\n",
       "       15, 14, 13, 12, 11, 10])"
      ]
     },
     "execution_count": 14,
     "metadata": {},
     "output_type": "execute_result"
    }
   ],
   "source": [
    "#Reverse a vector (first element becomes last)\n",
    "z[::-1]"
   ]
  },
  {
   "cell_type": "code",
   "execution_count": 15,
   "metadata": {},
   "outputs": [
    {
     "data": {
      "text/plain": [
       "array([[0, 1, 2],\n",
       "       [3, 4, 5],\n",
       "       [6, 7, 8]])"
      ]
     },
     "execution_count": 15,
     "metadata": {},
     "output_type": "execute_result"
    }
   ],
   "source": [
    "#Create a 3x3 matrix with values ranging from 0 to 8\n",
    "np.arange(9).reshape(3,3)"
   ]
  },
  {
   "cell_type": "code",
   "execution_count": 16,
   "metadata": {},
   "outputs": [
    {
     "name": "stdout",
     "output_type": "stream",
     "text": [
      "(array([0, 1, 4]),)\n"
     ]
    }
   ],
   "source": [
    "# Find indices of non­zero elements from [1,2,0,0,4,0]\n",
    "nz = np.nonzero([1,2,0,0,4,0])\n",
    "print(nz)"
   ]
  },
  {
   "cell_type": "code",
   "execution_count": 17,
   "metadata": {},
   "outputs": [
    {
     "data": {
      "text/plain": [
       "array([[1., 0., 0.],\n",
       "       [0., 1., 0.],\n",
       "       [0., 0., 1.]])"
      ]
     },
     "execution_count": 17,
     "metadata": {},
     "output_type": "execute_result"
    }
   ],
   "source": [
    "# Create a 3x3 identity matrix\n",
    "np.eye(3,3)"
   ]
  },
  {
   "cell_type": "code",
   "execution_count": 18,
   "metadata": {},
   "outputs": [
    {
     "data": {
      "text/plain": [
       "array([[[0.5922265 , 0.45161014, 0.11561823],\n",
       "        [0.10503187, 0.31049209, 0.84682588],\n",
       "        [0.86116893, 0.0086376 , 0.5818878 ]],\n",
       "\n",
       "       [[0.64357366, 0.45570671, 0.79633196],\n",
       "        [0.48548699, 0.36254432, 0.63535685],\n",
       "        [0.67380935, 0.17187378, 0.40001474]],\n",
       "\n",
       "       [[0.64436372, 0.10754743, 0.85830893],\n",
       "        [0.36035056, 0.93005552, 0.48565745],\n",
       "        [0.87154948, 0.75597923, 0.77259468]]])"
      ]
     },
     "execution_count": 18,
     "metadata": {},
     "output_type": "execute_result"
    }
   ],
   "source": [
    "# Create a 3x3x3 array with random values \n",
    "np.random.random((3,3,3))"
   ]
  },
  {
   "cell_type": "code",
   "execution_count": 19,
   "metadata": {},
   "outputs": [
    {
     "name": "stdout",
     "output_type": "stream",
     "text": [
      "[[0.96118826 0.70315136 0.14277009 0.90636844 0.89958805 0.00667477\n",
      "  0.9155129  0.08206389 0.82183719 0.60361242]\n",
      " [0.50483673 0.30719976 0.21581412 0.49567057 0.58816807 0.76945265\n",
      "  0.01990825 0.86395567 0.06925662 0.52040057]\n",
      " [0.82014712 0.42279502 0.20870438 0.81193194 0.25177177 0.74240117\n",
      "  0.79035437 0.762388   0.92997365 0.64993767]\n",
      " [0.37912562 0.8259405  0.08978899 0.09005279 0.88538627 0.04303435\n",
      "  0.07957544 0.82125519 0.99755974 0.47575081]\n",
      " [0.73887243 0.93318295 0.05571281 0.44575006 0.13524942 0.16323435\n",
      "  0.49092799 0.02075313 0.49766453 0.35817232]\n",
      " [0.15175516 0.64885757 0.94381414 0.12539654 0.89798473 0.23503596\n",
      "  0.90348793 0.56634374 0.17423237 0.4125702 ]\n",
      " [0.45094399 0.14569422 0.82227538 0.64347032 0.94779114 0.87319393\n",
      "  0.68417723 0.11433293 0.09510625 0.06289426]\n",
      " [0.77149325 0.44900792 0.49359804 0.69290073 0.24421355 0.85697592\n",
      "  0.34694102 0.72924102 0.18007143 0.99648588]\n",
      " [0.60966077 0.09066177 0.42127434 0.0271282  0.36252564 0.83758577\n",
      "  0.97878516 0.60119784 0.1054163  0.63454484]\n",
      " [0.83375507 0.10423855 0.56738657 0.79984061 0.01846526 0.5529615\n",
      "  0.86096257 0.16436573 0.47898697 0.14977299]]\n",
      "0.006674765169031094 0.9975597390635976\n"
     ]
    }
   ],
   "source": [
    "#Create a 10x10 array with random values and find the minimum and maximum values\n",
    "z= np.random.random((10,10))\n",
    "zmin , zmax= z.min() , z.max()\n",
    "print(z)\n",
    "print(zmin , zmax)"
   ]
  },
  {
   "cell_type": "code",
   "execution_count": 20,
   "metadata": {},
   "outputs": [
    {
     "data": {
      "text/plain": [
       "np.float64(0.5021037399670134)"
      ]
     },
     "execution_count": 20,
     "metadata": {},
     "output_type": "execute_result"
    }
   ],
   "source": [
    "#Create a random vector of size 30 and find the mean value\n",
    "z= np.random.random((30))\n",
    "z.mean()\n"
   ]
  },
  {
   "cell_type": "code",
   "execution_count": 21,
   "metadata": {},
   "outputs": [
    {
     "data": {
      "text/plain": [
       "array([[0.21771763, 0.58113449, 0.36544554, 0.16605033, 0.88012857,\n",
       "        0.36243037, 0.8302476 , 0.41591101, 0.87776171, 0.37668804],\n",
       "       [0.84226606, 0.96100723, 0.9919278 , 0.9959246 , 0.65274691,\n",
       "        0.32946254, 0.96705101, 0.18052845, 0.95307349, 0.39757952],\n",
       "       [0.57554797, 0.25681166, 0.70990304, 0.59130688, 0.00501175,\n",
       "        0.24647958, 0.0602787 , 0.07518779, 0.83636492, 0.17842093],\n",
       "       [0.10967696, 0.47795477, 0.8964329 , 0.88387385, 0.67308188,\n",
       "        0.7453706 , 0.6174847 , 0.49985139, 0.41805293, 0.89127079],\n",
       "       [0.9705634 , 0.60815211, 0.53085203, 0.79193481, 0.896271  ,\n",
       "        0.23628789, 0.68386962, 0.00773012, 0.49912983, 0.14730955],\n",
       "       [0.02508611, 0.22494757, 0.07168344, 0.63106328, 0.76522706,\n",
       "        0.32140034, 0.50124809, 0.97428959, 0.80785779, 0.90141816],\n",
       "       [0.96095206, 0.97179528, 0.55225448, 0.13348093, 0.97605437,\n",
       "        0.86553169, 0.72097192, 0.73970031, 0.83445445, 0.77245138],\n",
       "       [0.88296088, 0.54977884, 0.63036386, 0.88204198, 0.87522217,\n",
       "        0.6469358 , 0.44675966, 0.33023966, 0.21339364, 0.57935483],\n",
       "       [0.89463311, 0.14999111, 0.94291023, 0.59951811, 0.50331226,\n",
       "        0.5767912 , 0.8735037 , 0.46977176, 0.27829054, 0.26337492],\n",
       "       [0.85087115, 0.07251285, 0.12409727, 0.90734224, 0.6553298 ,\n",
       "        0.82481785, 0.62370438, 0.23076066, 0.98706405, 0.1214833 ]])"
      ]
     },
     "execution_count": 21,
     "metadata": {},
     "output_type": "execute_result"
    }
   ],
   "source": [
    "#Create a 2d array with 1 on the border and 0 inside\n",
    "np.random.random((10 ,10))"
   ]
  },
  {
   "cell_type": "code",
   "execution_count": 22,
   "metadata": {},
   "outputs": [
    {
     "data": {
      "text/plain": [
       "False"
      ]
     },
     "execution_count": 22,
     "metadata": {},
     "output_type": "execute_result"
    }
   ],
   "source": [
    "#What is the result of the following expression?\n",
    "0 * np.nan\n",
    "np.nan == np.nan\n",
    "np.inf > np.nan\n",
    "np.nan - np.nan\n",
    "0.3 == 3 * 0.1"
   ]
  },
  {
   "cell_type": "code",
   "execution_count": 23,
   "metadata": {},
   "outputs": [
    {
     "name": "stdout",
     "output_type": "stream",
     "text": [
      "[1 2 3 4]\n"
     ]
    }
   ],
   "source": [
    "#Create a 5x5 matrix with values 1,2,3,4 just below the diagonal\n",
    "data = np.array([1,2,3,4])\n",
    "print(data)"
   ]
  },
  {
   "cell_type": "code",
   "execution_count": 24,
   "metadata": {},
   "outputs": [
    {
     "data": {
      "text/plain": [
       "array([[0, 0, 0, 0, 0],\n",
       "       [1, 0, 0, 0, 0],\n",
       "       [0, 2, 0, 0, 0],\n",
       "       [0, 0, 3, 0, 0],\n",
       "       [0, 0, 0, 4, 0]])"
      ]
     },
     "execution_count": 24,
     "metadata": {},
     "output_type": "execute_result"
    }
   ],
   "source": [
    "# matrix = np.diag(data)\n",
    "matrix = np.diag(data , k=-1)\n",
    "matrix"
   ]
  },
  {
   "cell_type": "code",
   "execution_count": 26,
   "metadata": {},
   "outputs": [
    {
     "name": "stdout",
     "output_type": "stream",
     "text": [
      "(np.int64(1), np.int64(5), np.int64(4))\n"
     ]
    }
   ],
   "source": [
    "#Consider a (6,7,8) shape array, what is the index (x,y,z) of the 100th element?\n",
    "# np.random.rand(6, 7, 8)\n",
    "print(np.unravel_index(100,(6,7,8))) ## 100 is the position of the element and  a (6,7,8) shape array\n"
   ]
  },
  {
   "cell_type": "markdown",
   "metadata": {},
   "source": [
    "Normalization is the process of transforming data to a standard scale, usually in the range [0, 1].\n",
    "\n",
    "- Why Normalize Data?\n",
    "In many cases, your data might have values with different scales. For example:\n",
    "\n",
    "Age: 0–100\n",
    "\n",
    "Income: 10,000–1,000,000\n",
    "\n",
    "If you don’t normalize:\n",
    "\n",
    "Algorithms like KNN, logistic regression, SVM, or gradient descent-based models might give more importance to features with larger values (e.g., income over age).\n",
    "\n",
    "Xnormalized = (x-xmin ) / (xmax - xmin)\n",
    "\n",
    "\n",
    " \n",
    "​\n",
    " \n"
   ]
  },
  {
   "cell_type": "code",
   "execution_count": 40,
   "metadata": {},
   "outputs": [
    {
     "name": "stdout",
     "output_type": "stream",
     "text": [
      "[[49 60 56  4 24]\n",
      " [88 12 53 30 44]\n",
      " [91 58 26 93 59]\n",
      " [ 2 72 98 19 93]\n",
      " [24 75 57 47 36]]\n",
      "-----------------------\n",
      "[[0.48958333 0.60416667 0.5625     0.02083333 0.22916667]\n",
      " [0.89583333 0.10416667 0.53125    0.29166667 0.4375    ]\n",
      " [0.92708333 0.58333333 0.25       0.94791667 0.59375   ]\n",
      " [0.         0.72916667 1.         0.17708333 0.94791667]\n",
      " [0.22916667 0.76041667 0.57291667 0.46875    0.35416667]]\n"
     ]
    }
   ],
   "source": [
    "#Normalize a 5x5 random matrix \n",
    "z = np.random.randint(1, 100, (5, 5))\n",
    "zmax , zmin = z.max() ,z.min()\n",
    "normalized = (z-zmin)/(zmax-zmin)\n",
    "print(z)\n",
    "print(\"-----------------------\")\n",
    "print(normalized)"
   ]
  },
  {
   "cell_type": "code",
   "execution_count": 43,
   "metadata": {},
   "outputs": [
    {
     "data": {
      "text/plain": [
       "array([[3., 3.],\n",
       "       [3., 3.],\n",
       "       [3., 3.],\n",
       "       [3., 3.],\n",
       "       [3., 3.]])"
      ]
     },
     "execution_count": 43,
     "metadata": {},
     "output_type": "execute_result"
    }
   ],
   "source": [
    "#Multiply a 5x3 matrix by a 3x2 matrix (real matrix product) \n",
    "m1 = np.ones((5,3))\n",
    "m2 = np.ones((3,2))\n",
    "\n",
    "dot_product = np.dot(m1 , m2)\n",
    "dot_product"
   ]
  },
  {
   "cell_type": "code",
   "execution_count": 46,
   "metadata": {},
   "outputs": [
    {
     "data": {
      "text/plain": [
       "array([ 0,  1,  2, -3, -4, -5, -6, -7, -8,  9, 10])"
      ]
     },
     "execution_count": 46,
     "metadata": {},
     "output_type": "execute_result"
    }
   ],
   "source": [
    "#Given a 1D array, negate all elements which are between 3 and 8, in place.\n",
    "z = np.arange(11)\n",
    "z[(z>=3) & (z<=8)] *= -1\n",
    "z\n",
    "\n"
   ]
  },
  {
   "cell_type": "code",
   "execution_count": 49,
   "metadata": {},
   "outputs": [
    {
     "name": "stdout",
     "output_type": "stream",
     "text": [
      "9\n"
     ]
    }
   ],
   "source": [
    "print(sum(range(5) , -1))"
   ]
  },
  {
   "cell_type": "code",
   "execution_count": 53,
   "metadata": {},
   "outputs": [
    {
     "name": "stdout",
     "output_type": "stream",
     "text": [
      "False\n"
     ]
    }
   ],
   "source": [
    "#Consider two random array A anb B, check if they are equa\n",
    "\n",
    "A = np.random.randint(0,2,5)   ##np.random.randint(low, high, size)\n",
    "B = np.random.randint(0,2,5) \n",
    "equal = np.allclose(A,B)\n",
    "print(equal)"
   ]
  },
  {
   "cell_type": "code",
   "execution_count": 66,
   "metadata": {},
   "outputs": [
    {
     "name": "stdout",
     "output_type": "stream",
     "text": [
      "2\n",
      "[0.1748089  0.72302448 0.         0.83923213 0.36499563 0.63009746\n",
      " 0.53513317 0.27146772 0.78254138 0.94910757]\n"
     ]
    }
   ],
   "source": [
    "#Create random vector of size 10 and replace the maximum value by 0\n",
    "\n",
    "z= np.random.random(10)\n",
    "max_index = z.argmax()\n",
    "print(max_index)\n",
    "z[max_index] = 0\n",
    "print(z)\n",
    "\n"
   ]
  },
  {
   "cell_type": "code",
   "execution_count": 72,
   "metadata": {},
   "outputs": [
    {
     "name": "stdout",
     "output_type": "stream",
     "text": [
      "[0.53062795 0.03042055 0.61710234 0.25388952 0.25890975 0.70721736\n",
      " 0.39109491 0.78538663 0.08148524 0.82318378]\n",
      "-----\n",
      "0.7853866291954678\n"
     ]
    }
   ],
   "source": [
    "#How to find the closest value (to a given scalar) in an array? \n",
    "\n",
    "z= np.random.random(10)\n",
    "target = 0.777\n",
    "diff = np.abs(z-target)\n",
    "diff\n",
    "min_index = diff.argmin()\n",
    "print(z)\n",
    "print(\"-----\")\n",
    "print(z[min_index])"
   ]
  },
  {
   "cell_type": "code",
   "execution_count": 73,
   "metadata": {},
   "outputs": [
    {
     "name": "stdout",
     "output_type": "stream",
     "text": [
      "(0, 0) 0\n",
      "(0, 1) 1\n",
      "(0, 2) 2\n",
      "(1, 0) 3\n",
      "(1, 1) 4\n",
      "(1, 2) 5\n",
      "(2, 0) 6\n",
      "(2, 1) 7\n",
      "(2, 2) 8\n"
     ]
    }
   ],
   "source": [
    "#What is the equivalent of enumerate for numpy arrays?\n",
    "Z = np.arange(9).reshape(3,3)\n",
    "for index, value in np.ndenumerate(Z):\n",
    "    print(index, value)"
   ]
  },
  {
   "cell_type": "code",
   "execution_count": 78,
   "metadata": {},
   "outputs": [
    {
     "name": "stdout",
     "output_type": "stream",
     "text": [
      "2\n"
     ]
    }
   ],
   "source": [
    "# Compute a matrix rank\n",
    "\n",
    "#The rank of a matrix is the maximum number of linearly independent rows or columns.\n",
    "A = np.array([[1, 2, 3],\n",
    "              [4, 5, 6],\n",
    "              [7, 8, 9]])\n",
    "rank = np.linalg.matrix_rank(A)\n",
    "print(rank)\n",
    "\n"
   ]
  },
  {
   "cell_type": "code",
   "execution_count": 82,
   "metadata": {},
   "outputs": [
    {
     "name": "stdout",
     "output_type": "stream",
     "text": [
      "[4 8 9 5 0 1 1 8 1 8 8 5 3 0 6 6 1 9 6 8 7 0 7 5 1 8 7 0 5 0 2 0 0 4 6 4 7\n",
      " 6 7 6 5 4 2 2 9 8 9 7 8 9]\n",
      "----\n",
      "8\n"
     ]
    }
   ],
   "source": [
    "# How to find the most frequent value in an array?\n",
    "Z = np.random.randint(0,10,50)\n",
    "print(Z)\n",
    "print(\"----\")\n",
    "print(np.bincount(Z).argmax())"
   ]
  },
  {
   "cell_type": "code",
   "execution_count": null,
   "metadata": {},
   "outputs": [],
   "source": []
  }
 ],
 "metadata": {
  "kernelspec": {
   "display_name": "Python 3",
   "language": "python",
   "name": "python3"
  },
  "language_info": {
   "codemirror_mode": {
    "name": "ipython",
    "version": 3
   },
   "file_extension": ".py",
   "mimetype": "text/x-python",
   "name": "python",
   "nbconvert_exporter": "python",
   "pygments_lexer": "ipython3",
   "version": "3.10.12"
  }
 },
 "nbformat": 4,
 "nbformat_minor": 2
}
