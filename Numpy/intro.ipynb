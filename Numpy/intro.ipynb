{
 "cells": [
  {
   "cell_type": "code",
   "execution_count": 1,
   "metadata": {},
   "outputs": [
    {
     "data": {
      "text/plain": [
       "65.9"
      ]
     },
     "execution_count": 1,
     "metadata": {},
     "output_type": "execute_result"
    }
   ],
   "source": [
    "import numpy as np\n",
    "#temp | rainfall | humidity\n",
    "region_d1 = [73 , 20 , 60]\n",
    "region_d2 = [40 , 20 ,10]\n",
    "region_d3 = [43 , 10 , 60]\n",
    "\n",
    "w1 , w2 ,w3 = 0.3 ,0.4 ,0.6\n",
    "\n",
    "weights =[ w1 ,w2 ,w3]\n",
    "\n",
    "##function for the calculation\n",
    "def crop_yield(regiion , weight):\n",
    "    result = 0 \n",
    "    for x,w in zip(regiion ,weights):\n",
    "        result +=x*w\n",
    "    return result\n",
    "\n",
    "##call the function\n",
    "crop_yield(region_d1,w1)\n",
    "### here we are calculating the dot product , but can do the same thing using numpy , which supoots dot product by default\n"
   ]
  },
  {
   "cell_type": "code",
   "execution_count": 8,
   "metadata": {},
   "outputs": [
    {
     "data": {
      "text/plain": [
       "np.float64(65.9)"
      ]
     },
     "execution_count": 8,
     "metadata": {},
     "output_type": "execute_result"
    }
   ],
   "source": [
    "import numpy as np\n",
    "region1_np = np.array(region_d1)\n",
    "weights_np = np.array(weights)\n",
    "## dot product calculated\n",
    "np.dot(region1_np , weights_np)\n",
    "\n",
    "\n"
   ]
  },
  {
   "cell_type": "code",
   "execution_count": 15,
   "metadata": {},
   "outputs": [
    {
     "data": {
      "text/plain": [
       "np.float64(65.9)"
      ]
     },
     "execution_count": 15,
     "metadata": {},
     "output_type": "execute_result"
    }
   ],
   "source": [
    "## or we can do like this laso \n",
    "(region1_np*weights_np).sum()"
   ]
  },
  {
   "cell_type": "code",
   "execution_count": 16,
   "metadata": {},
   "outputs": [],
   "source": [
    "climate_data =  np.array([\n",
    "    [73 , 20 , 60],\n",
    "    [40 , 20 ,10],\n",
    "    [43 , 10 , 60]\n",
    "])"
   ]
  },
  {
   "cell_type": "code",
   "execution_count": 18,
   "metadata": {},
   "outputs": [
    {
     "data": {
      "text/plain": [
       "(3, 3)"
      ]
     },
     "execution_count": 18,
     "metadata": {},
     "output_type": "execute_result"
    }
   ],
   "source": [
    "## inspect the length of array using .shape  ----> Row*Column\n",
    "climate_data.shape"
   ]
  },
  {
   "cell_type": "markdown",
   "metadata": {},
   "source": [
    "Note : All elemets in a numpy array should have the same data type "
   ]
  },
  {
   "cell_type": "markdown",
   "metadata": {},
   "source": [
    "Note : if a single element in an array is float then all the all the values are converted into the float"
   ]
  },
  {
   "cell_type": "markdown",
   "metadata": {},
   "source": [
    "now calculate the yield of all region together ---> matrix multiplication\n"
   ]
  },
  {
   "cell_type": "code",
   "execution_count": 19,
   "metadata": {},
   "outputs": [
    {
     "data": {
      "text/plain": [
       "array([65.9, 26. , 52.9])"
      ]
     },
     "execution_count": 19,
     "metadata": {},
     "output_type": "execute_result"
    }
   ],
   "source": [
    "climate_data =  np.array([\n",
    "    [73 , 20 , 60],\n",
    "    [40 , 20 ,10],\n",
    "    [43 , 10 , 60]\n",
    "])\n",
    "\n",
    "weights_np\n",
    "\n",
    "np.matmul(climate_data ,weights_np)\n"
   ]
  },
  {
   "cell_type": "code",
   "execution_count": 20,
   "metadata": {},
   "outputs": [
    {
     "data": {
      "text/plain": [
       "array([65.9, 26. , 52.9])"
      ]
     },
     "execution_count": 20,
     "metadata": {},
     "output_type": "execute_result"
    }
   ],
   "source": [
    "climate_data @ weights_np #this is sam as matrix multiplication"
   ]
  },
  {
   "cell_type": "markdown",
   "metadata": {},
   "source": [
    "workflow ----> import an csv file , convert it into the numpay array , concatenate the data , then save it to folder\n"
   ]
  },
  {
   "cell_type": "code",
   "execution_count": 25,
   "metadata": {},
   "outputs": [
    {
     "name": "stdout",
     "output_type": "stream",
     "text": [
      "NumPy-only workflow complete!\n"
     ]
    }
   ],
   "source": [
    "import os\n",
    "##import the csv file\n",
    "load_data = np.loadtxt(\"test_data.csv\" , delimiter= ',', skiprows=1)\n",
    "extra_data = np.array([100,90,80]).reshape(-1 ,1)\n",
    "#concatenate the array\n",
    "combined_data = np.concatenate((load_data,extra_data),axis=1)\n",
    "\n",
    "##create a file to save it \n",
    "output_folder = \"output_data\"\n",
    "os.makedirs(output_folder , exist_ok=True)\n",
    "np.savetxt(os.path.join(output_folder, \"combined_data.csv\"), combined_data, delimiter=\",\", fmt=\"%.2f\")\n",
    "\n",
    "print(\"NumPy-only workflow complete!\")\n",
    "\n",
    "\n",
    "\n"
   ]
  },
  {
   "cell_type": "markdown",
   "metadata": {},
   "source": [
    "Array Indexing and Slicing"
   ]
  },
  {
   "cell_type": "code",
   "execution_count": 28,
   "metadata": {},
   "outputs": [
    {
     "data": {
      "text/plain": [
       "np.int64(60)"
      ]
     },
     "execution_count": 28,
     "metadata": {},
     "output_type": "execute_result"
    }
   ],
   "source": [
    "climate_data =  np.array([\n",
    "    [73 , 20 , 60],\n",
    "    [40 , 20 ,10],\n",
    "    [43 , 10 , 60]\n",
    "])\n",
    "\n"
   ]
  },
  {
   "cell_type": "code",
   "execution_count": 29,
   "metadata": {},
   "outputs": [
    {
     "data": {
      "text/plain": [
       "np.int64(60)"
      ]
     },
     "execution_count": 29,
     "metadata": {},
     "output_type": "execute_result"
    }
   ],
   "source": [
    "##single element\n",
    "climate_data[2,2]"
   ]
  },
  {
   "cell_type": "code",
   "execution_count": 30,
   "metadata": {},
   "outputs": [
    {
     "data": {
      "text/plain": [
       "array([[40, 20, 10],\n",
       "       [43, 10, 60]])"
      ]
     },
     "execution_count": 30,
     "metadata": {},
     "output_type": "execute_result"
    }
   ],
   "source": [
    "##subarrays\n",
    "climate_data[1:]"
   ]
  },
  {
   "cell_type": "markdown",
   "metadata": {},
   "source": [
    "Creating numpty arrays with some default values\n"
   ]
  },
  {
   "cell_type": "code",
   "execution_count": 32,
   "metadata": {},
   "outputs": [
    {
     "data": {
      "text/plain": [
       "array([[0., 0.],\n",
       "       [0., 0.],\n",
       "       [0., 0.]])"
      ]
     },
     "execution_count": 32,
     "metadata": {},
     "output_type": "execute_result"
    }
   ],
   "source": [
    "#All Zeros\n",
    "np.zeros((3,2))"
   ]
  },
  {
   "cell_type": "code",
   "execution_count": 33,
   "metadata": {},
   "outputs": [
    {
     "data": {
      "text/plain": [
       "array([[1., 1., 1., 1.],\n",
       "       [1., 1., 1., 1.]])"
      ]
     },
     "execution_count": 33,
     "metadata": {},
     "output_type": "execute_result"
    }
   ],
   "source": [
    "## all ones \n",
    "\n",
    "np.ones((2,4))"
   ]
  },
  {
   "cell_type": "code",
   "execution_count": 35,
   "metadata": {},
   "outputs": [
    {
     "data": {
      "text/plain": [
       "array([[1., 0., 0.],\n",
       "       [0., 1., 0.],\n",
       "       [0., 0., 1.]])"
      ]
     },
     "execution_count": 35,
     "metadata": {},
     "output_type": "execute_result"
    }
   ],
   "source": [
    "#3 identity matrix\n",
    "np.eye(3)"
   ]
  },
  {
   "cell_type": "code",
   "execution_count": 36,
   "metadata": {},
   "outputs": [
    {
     "data": {
      "text/plain": [
       "array([0.72197969, 0.97047283, 0.37676351, 0.86265025, 0.20328203])"
      ]
     },
     "execution_count": 36,
     "metadata": {},
     "output_type": "execute_result"
    }
   ],
   "source": [
    "#Random vector --> rand -1to 1\n",
    "\n",
    "np.random.rand(5)"
   ]
  },
  {
   "cell_type": "code",
   "execution_count": 37,
   "metadata": {},
   "outputs": [
    {
     "data": {
      "text/plain": [
       "array([[ 0.23846519, -0.6360016 ,  1.01551932],\n",
       "       [ 0.52231577, -0.45946598, -0.12931399]])"
      ]
     },
     "execution_count": 37,
     "metadata": {},
     "output_type": "execute_result"
    }
   ],
   "source": [
    "## random matrix  --> randn --> -2 to 2\n",
    "\n",
    "np.random.randn(2,3)"
   ]
  },
  {
   "cell_type": "code",
   "execution_count": 38,
   "metadata": {},
   "outputs": [
    {
     "data": {
      "text/plain": [
       "array([[10, 10, 10],\n",
       "       [10, 10, 10]])"
      ]
     },
     "execution_count": 38,
     "metadata": {},
     "output_type": "execute_result"
    }
   ],
   "source": [
    "## Fixed values\n",
    "\n",
    "np.full([2,3] ,10)"
   ]
  }
 ],
 "metadata": {
  "kernelspec": {
   "display_name": "Python 3",
   "language": "python",
   "name": "python3"
  },
  "language_info": {
   "codemirror_mode": {
    "name": "ipython",
    "version": 3
   },
   "file_extension": ".py",
   "mimetype": "text/x-python",
   "name": "python",
   "nbconvert_exporter": "python",
   "pygments_lexer": "ipython3",
   "version": "3.10.12"
  }
 },
 "nbformat": 4,
 "nbformat_minor": 2
}
